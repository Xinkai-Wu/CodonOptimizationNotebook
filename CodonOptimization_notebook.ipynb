{
 "cells": [
  {
   "cell_type": "code",
   "execution_count": 1,
   "metadata": {},
   "outputs": [
    {
     "name": "stdout",
     "output_type": "stream",
     "text": [
      "The history saving thread hit an unexpected error (DatabaseError('database disk image is malformed',)).History will not be written to the database.\n"
     ]
    }
   ],
   "source": [
    "import pandas as pd\n",
    "import numpy as np\n",
    "import re\n",
    "import pysam\n",
    "from Bio import Seq"
   ]
  },
  {
   "cell_type": "code",
   "execution_count": 2,
   "metadata": {},
   "outputs": [
    {
     "data": {
      "text/html": [
       "<div>\n",
       "<style scoped>\n",
       "    .dataframe tbody tr th:only-of-type {\n",
       "        vertical-align: middle;\n",
       "    }\n",
       "\n",
       "    .dataframe tbody tr th {\n",
       "        vertical-align: top;\n",
       "    }\n",
       "\n",
       "    .dataframe thead th {\n",
       "        text-align: right;\n",
       "    }\n",
       "</style>\n",
       "<table border=\"1\" class=\"dataframe\">\n",
       "  <thead>\n",
       "    <tr style=\"text-align: right;\">\n",
       "      <th></th>\n",
       "      <th>cai_ln_ws</th>\n",
       "      <th>cui_ln_ws</th>\n",
       "    </tr>\n",
       "  </thead>\n",
       "  <tbody>\n",
       "    <tr>\n",
       "      <th>TGT</th>\n",
       "      <td>-0.624154</td>\n",
       "      <td>-0.33417</td>\n",
       "    </tr>\n",
       "    <tr>\n",
       "      <th>TGC</th>\n",
       "      <td>0.000000</td>\n",
       "      <td>0.00000</td>\n",
       "    </tr>\n",
       "  </tbody>\n",
       "</table>\n",
       "</div>"
      ],
      "text/plain": [
       "     cai_ln_ws  cui_ln_ws\n",
       "TGT  -0.624154   -0.33417\n",
       "TGC   0.000000    0.00000"
      ]
     },
     "execution_count": 2,
     "metadata": {},
     "output_type": "execute_result"
    }
   ],
   "source": [
    "# load weigthed RSCU Score\n",
    "ws_df = pd.read_csv(\"codon_adaptive_ws.txt\",sep=\"\\t\",index_col=0)\n",
    "ws_df.head(2)"
   ]
  },
  {
   "cell_type": "code",
   "execution_count": 3,
   "metadata": {
    "collapsed": true
   },
   "outputs": [],
   "source": [
    "# load coding sequences\n",
    "filename = 'mRNA1273.fasta'\n",
    "read_fa = pysam.FastaFile(filename)\n",
    "primary_cds = read_fa.fetch(read_fa.references[0])"
   ]
  },
  {
   "cell_type": "code",
   "execution_count": 4,
   "metadata": {
    "collapsed": true
   },
   "outputs": [],
   "source": [
    "# optimal codon\n",
    "optimal_codon = {}\n",
    "optimal_score = {}\n",
    "nonoptimal_codon = {}\n",
    "nonoptimal_score = {}\n",
    "\n",
    "for index, row in ws_df.iterrows():\n",
    "    \n",
    "    protein = str(Seq.Seq(index).translate())\n",
    "    score = row['cui_ln_ws']\n",
    "    codon = index\n",
    "    \n",
    "    if protein in optimal_codon:\n",
    "        if score > optimal_score[protein]:\n",
    "            optimal_codon[protein] = codon\n",
    "            optimal_score[protein] = score\n",
    "        if score < nonoptimal_score[protein]:\n",
    "            nonoptimal_codon[protein] = codon\n",
    "            nonoptimal_score[protein] = score\n",
    "    else:\n",
    "        optimal_codon[protein] = codon\n",
    "        optimal_score[protein] = score\n",
    "        nonoptimal_codon[protein] = codon\n",
    "        nonoptimal_score[protein] = score\n",
    "        \n",
    "# add M, ATG\n",
    "optimal_codon['M'] = 'ATG'\n",
    "optimal_codon['*'] = 'TAA'"
   ]
  },
  {
   "cell_type": "code",
   "execution_count": 5,
   "metadata": {
    "collapsed": true
   },
   "outputs": [],
   "source": [
    "# optimal sequence generate\n",
    "protein_seq = str(Seq.Seq(primary_cds).translate())\n",
    "\n",
    "codons_optimal = []\n",
    "for i in range(0, len(protein_seq), 1):\n",
    "    codons_optimal.append(optimal_codon[protein_seq[i]])\n",
    "    \n",
    "optimal_cds = ''.join(codons_optimal)"
   ]
  },
  {
   "cell_type": "code",
   "execution_count": 6,
   "metadata": {},
   "outputs": [
    {
     "name": "stdout",
     "output_type": "stream",
     "text": [
      ">optimal_seq\n",
      "ATGTTCGTGTTCCTGGTGCTGCTGCCCCTGGTGAGCAGCCAGTGCGTGAACCTGACCACCCGGACCCAGCTGCCCCCCGCCTACACCAACAGCTTCACCCGGGGCGTGTACTACCCCGACAAGGTGTTCCGGAGCAGCGTGCTGCACAGCACCCAGGACCTGTTCCTGCCCTTCTTCAGCAACGTGACCTGGTTCCACGCCATCCACGTGAGCGGCACCAACGGCACCAAGCGGTTCGACAACCCCGTGCTGCCCTTCAACGACGGCGTGTACTTCGCCAGCACCGAGAAGAGCAACATCATCCGGGGCTGGATCTTCGGCACCACCCTGGACAGCAAGACCCAGAGCCTGCTGATCGTGAACAACGCCACCAACGTGGTGATCAAGGTGTGCGAGTTCCAGTTCTGCAACGACCCCTTCCTGGGCGTGTACTACCACAAGAACAACAAGAGCTGGATGGAGAGCGAGTTCCGGGTGTACAGCAGCGCCAACAACTGCACCTTCGAGTACGTGAGCCAGCCCTTCCTGATGGACCTGGAGGGCAAGCAGGGCAACTTCAAGAACCTGCGGGAGTTCGTGTTCAAGAACATCGACGGCTACTTCAAGATCTACAGCAAGCACACCCCCATCAACCTGGTGCGGGACCTGCCCCAGGGCTTCAGCGCCCTGGAGCCCCTGGTGGACCTGCCCATCGGCATCAACATCACCCGGTTCCAGACCCTGCTGGCCCTGCACCGGAGCTACCTGACCCCCGGCGACAGCAGCAGCGGCTGGACCGCCGGCGCCGCCGCCTACTACGTGGGCTACCTGCAGCCCCGGACCTTCCTGCTGAAGTACAACGAGAACGGCACCATCACCGACGCCGTGGACTGCGCCCTGGACCCCCTGAGCGAGACCAAGTGCACCCTGAAGAGCTTCACCGTGGAGAAGGGCATCTACCAGACCAGCAACTTCCGGGTGCAGCCCACCGAGAGCATCGTGCGGTTCCCCAACATCACCAACCTGTGCCCCTTCGGCGAGGTGTTCAACGCCACCCGGTTCGCCAGCGTGTACGCCTGGAACCGGAAGCGGATCAGCAACTGCGTGGCCGACTACAGCGTGCTGTACAACAGCGCCAGCTTCAGCACCTTCAAGTGCTACGGCGTGAGCCCCACCAAGCTGAACGACCTGTGCTTCACCAACGTGTACGCCGACAGCTTCGTGATCCGGGGCGACGAGGTGCGGCAGATCGCCCCCGGCCAGACCGGCAAGATCGCCGACTACAACTACAAGCTGCCCGACGACTTCACCGGCTGCGTGATCGCCTGGAACAGCAACAACCTGGACAGCAAGGTGGGCGGCAACTACAACTACCTGTACCGGCTGTTCCGGAAGAGCAACCTGAAGCCCTTCGAGCGGGACATCAGCACCGAGATCTACCAGGCCGGCAGCACCCCCTGCAACGGCGTGGAGGGCTTCAACTGCTACTTCCCCCTGCAGAGCTACGGCTTCCAGCCCACCAACGGCGTGGGCTACCAGCCCTACCGGGTGGTGGTGCTGAGCTTCGAGCTGCTGCACGCCCCCGCCACCGTGTGCGGCCCCAAGAAGAGCACCAACCTGGTGAAGAACAAGTGCGTGAACTTCAACTTCAACGGCCTGACCGGCACCGGCGTGCTGACCGAGAGCAACAAGAAGTTCCTGCCCTTCCAGCAGTTCGGCCGGGACATCGCCGACACCACCGACGCCGTGCGGGACCCCCAGACCCTGGAGATCCTGGACATCACCCCCTGCAGCTTCGGCGGCGTGAGCGTGATCACCCCCGGCACCAACACCAGCAACCAGGTGGCCGTGCTGTACCAGGACGTGAACTGCACCGAGGTGCCCGTGGCCATCCACGCCGACCAGCTGACCCCCACCTGGCGGGTGTACAGCACCGGCAGCAACGTGTTCCAGACCCGGGCCGGCTGCCTGATCGGCGCCGAGCACGTGAACAACAGCTACGAGTGCGACATCCCCATCGGCGCCGGCATCTGCGCCAGCTACCAGACCCAGACCAACAGCCCCCGGCGGGCCCGGAGCGTGGCCAGCCAGAGCATCATCGCCTACACCATGAGCCTGGGCGCCGAGAACAGCGTGGCCTACAGCAACAACAGCATCGCCATCCCCACCAACTTCACCATCAGCGTGACCACCGAGATCCTGCCCGTGAGCATGACCAAGACCAGCGTGGACTGCACCATGTACATCTGCGGCGACAGCACCGAGTGCAGCAACCTGCTGCTGCAGTACGGCAGCTTCTGCACCCAGCTGAACCGGGCCCTGACCGGCATCGCCGTGGAGCAGGACAAGAACACCCAGGAGGTGTTCGCCCAGGTGAAGCAGATCTACAAGACCCCCCCCATCAAGGACTTCGGCGGCTTCAACTTCAGCCAGATCCTGCCCGACCCCAGCAAGCCCAGCAAGCGGAGCTTCATCGAGGACCTGCTGTTCAACAAGGTGACCCTGGCCGACGCCGGCTTCATCAAGCAGTACGGCGACTGCCTGGGCGACATCGCCGCCCGGGACCTGATCTGCGCCCAGAAGTTCAACGGCCTGACCGTGCTGCCCCCCCTGCTGACCGACGAGATGATCGCCCAGTACACCAGCGCCCTGCTGGCCGGCACCATCACCAGCGGCTGGACCTTCGGCGCCGGCGCCGCCCTGCAGATCCCCTTCGCCATGCAGATGGCCTACCGGTTCAACGGCATCGGCGTGACCCAGAACGTGCTGTACGAGAACCAGAAGCTGATCGCCAACCAGTTCAACAGCGCCATCGGCAAGATCCAGGACAGCCTGAGCAGCACCGCCAGCGCCCTGGGCAAGCTGCAGGACGTGGTGAACCAGAACGCCCAGGCCCTGAACACCCTGGTGAAGCAGCTGAGCAGCAACTTCGGCGCCATCAGCAGCGTGCTGAACGACATCCTGAGCCGGCTGGACCCCCCCGAGGCCGAGGTGCAGATCGACCGGCTGATCACCGGCCGGCTGCAGAGCCTGCAGACCTACGTGACCCAGCAGCTGATCCGGGCCGCCGAGATCCGGGCCAGCGCCAACCTGGCCGCCACCAAGATGAGCGAGTGCGTGCTGGGCCAGAGCAAGCGGGTGGACTTCTGCGGCAAGGGCTACCACCTGATGAGCTTCCCCCAGAGCGCCCCCCACGGCGTGGTGTTCCTGCACGTGACCTACGTGCCCGCCCAGGAGAAGAACTTCACCACCGCCCCCGCCATCTGCCACGACGGCAAGGCCCACTTCCCCCGGGAGGGCGTGTTCGTGAGCAACGGCACCCACTGGTTCGTGACCCAGCGGAACTTCTACGAGCCCCAGATCATCACCACCGACAACACCTTCGTGAGCGGCAACTGCGACGTGGTGATCGGCATCGTGAACAACACCGTGTACGACCCCCTGCAGCCCGAGCTGGACAGCTTCAAGGAGGAGCTGGACAAGTACTTCAAGAACCACACCAGCCCCGACGTGGACCTGGGCGACATCAGCGGCATCAACGCCAGCGTGGTGAACATCCAGAAGGAGATCGACCGGCTGAACGAGGTGGCCAAGAACCTGAACGAGAGCCTGATCGACCTGCAGGAGCTGGGCAAGTACGAGCAGTACATCAAGTGGCCCTGGTACATCTGGCTGGGCTTCATCGCCGGCCTGATCGCCATCGTGATGGTGACCATCATGCTGTGCTGCATGACCAGCTGCTGCAGCTGCCTGAAGGGCTGCTGCAGCTGCGGCAGCTGCTGCAAGTTCGACGAGGACGACAGCGAGCCCGTGCTGAAGGGCGTGAAGCTGCACTACACCTAATAATAA\n"
     ]
    }
   ],
   "source": [
    "print(\">optimal_seq\")\n",
    "print(optimal_cds)"
   ]
  },
  {
   "cell_type": "code",
   "execution_count": 7,
   "metadata": {
    "collapsed": true
   },
   "outputs": [],
   "source": [
    "def _cai_seq(seq, ws):\n",
    "    \"\"\"Calculate the CAI (float) for the provided cds sequence (string).\n",
    "    This method uses the Index and returns the CAI for the given sequence.\n",
    "    \"\"\"\n",
    "    seq = seq.upper()\n",
    "\n",
    "    codon_id, codon_count = np.unique(re.findall('...', seq),return_counts=True)\n",
    "    codon_count = pd.Series(codon_count, index=codon_id, name='codons')\n",
    "    \n",
    "    # remove start or stop codons\n",
    "    df = pd.concat([ws, codon_count], axis=1, sort=True).loc[ws.index]\n",
    "    \n",
    "    # calculate cai\n",
    "    codon_prop = df['codons'] / df['codons'].sum()\n",
    "    return np.exp(np.sum(df.iloc[:,0] * codon_prop))"
   ]
  },
  {
   "cell_type": "code",
   "execution_count": 8,
   "metadata": {},
   "outputs": [
    {
     "name": "stdout",
     "output_type": "stream",
     "text": [
      "CAI of primary coding sequence:\n",
      "0.9720393729996601\n",
      "CAI of optimized coding sequence:\n",
      "1.0\n"
     ]
    }
   ],
   "source": [
    "print(\"CAI of primary coding sequence:\")\n",
    "print(_cai_seq(primary_cds,ws_df['cui_ln_ws']))\n",
    "print(\"CAI of optimized coding sequence:\")\n",
    "print(_cai_seq(optimal_cds,ws_df['cui_ln_ws']))"
   ]
  },
  {
   "cell_type": "code",
   "execution_count": null,
   "metadata": {
    "collapsed": true
   },
   "outputs": [],
   "source": []
  },
  {
   "cell_type": "markdown",
   "metadata": {},
   "source": []
  }
 ],
 "metadata": {
  "kernelspec": {
   "display_name": "Python 3",
   "language": "python",
   "name": "python3"
  },
  "language_info": {
   "codemirror_mode": {
    "name": "ipython",
    "version": 3
   },
   "file_extension": ".py",
   "mimetype": "text/x-python",
   "name": "python",
   "nbconvert_exporter": "python",
   "pygments_lexer": "ipython3",
   "version": "3.6.7"
  }
 },
 "nbformat": 4,
 "nbformat_minor": 2
}
